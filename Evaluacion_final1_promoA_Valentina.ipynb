{
 "cells": [
  {
   "cell_type": "markdown",
   "metadata": {},
   "source": [
    "Evaluacion Final 1"
   ]
  },
  {
   "cell_type": "code",
   "execution_count": null,
   "metadata": {},
   "outputs": [],
   "source": [
    "#Para desarrollar esta evaluacion usaremos una clase llamada 'TiendaOnline con los siguientes atributos:\n",
    "## 1) Inventario \\\\ 2) clientes \\\\ 3) Ventas totales\n",
    "### y los siguientes métodos:\n",
    "#### 1) Agregar producto \\\\ 2) Ver inventario \\\\ 3) Buscar producto \\\\ 4) Actualizar Stock \\\\ 5) Eliminar producto \\\\ 6) Calcular valor inventario \\\\ 7) Buscar producto con REGEX\n",
    "##### 8) Realizar compra \\\\ 9) Procesar pago \\\\ 10) Agregar cliente \\\\ 11) Ver clientes \\\\ 12) Registrar compra \\\\ 13) ver comprar \\\\ 14) Calcular ventas totales"
   ]
  },
  {
   "cell_type": "code",
   "execution_count": 34,
   "metadata": {},
   "outputs": [],
   "source": [
    "#Creamos la clase\n",
    "class TiendaOnline:\n",
    "    def __init__(self, ): #definimos los atributos. Como asignaremos valores iniciales, no es necesario poner los atributos como parámetros.\n",
    "          self.inventario = []\n",
    "          self.cliente = {}\n",
    "          self.ventas_totales = 0.0 #iniciamos con un valor float.\n",
    "\n",
    "##Creamos los métodos\n",
    "\n",
    "# 1) Agregar Producto\n",
    "    def agregar_producto(self, nombre, precio, cantidad):\n",
    "        for producto in self.inventario:            \n",
    "              if producto['nombre'] == nombre:\n",
    "                     producto ['cantidad'] += cantidad\n",
    "                     break #para evitar que agregue el producto\n",
    "        else:\n",
    "            nuevo_producto = {'nombre': nombre , 'precio': precio, 'cantidad': cantidad}\n",
    "            self.inventario.append(nuevo_producto)\n",
    "            return(self.inventario)\n",
    "\n",
    "# 2) Ver inventario\n",
    "    def ver_inventario(self):\n",
    "         for producto in self.inventario:\n",
    "              print()"
   ]
  },
  {
   "cell_type": "code",
   "execution_count": 35,
   "metadata": {},
   "outputs": [
    {
     "name": "stdout",
     "output_type": "stream",
     "text": [
      "[{'nombre': 'Cuaderno', 'precio': 5, 'cantidad': 100}]\n"
     ]
    }
   ],
   "source": [
    "producto1 = TiendaOnline()\n",
    "print(producto1.agregar_producto('Cuaderno', 5, 100))"
   ]
  }
 ],
 "metadata": {
  "kernelspec": {
   "display_name": "Python 3",
   "language": "python",
   "name": "python3"
  },
  "language_info": {
   "codemirror_mode": {
    "name": "ipython",
    "version": 3
   },
   "file_extension": ".py",
   "mimetype": "text/x-python",
   "name": "python",
   "nbconvert_exporter": "python",
   "pygments_lexer": "ipython3",
   "version": "3.11.3"
  }
 },
 "nbformat": 4,
 "nbformat_minor": 2
}
