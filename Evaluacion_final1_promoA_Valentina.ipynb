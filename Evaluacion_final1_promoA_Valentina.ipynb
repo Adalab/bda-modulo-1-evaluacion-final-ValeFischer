{
 "cells": [
  {
   "cell_type": "markdown",
   "metadata": {},
   "source": [
    "Evaluacion Final 1"
   ]
  },
  {
   "cell_type": "code",
   "execution_count": null,
   "metadata": {},
   "outputs": [],
   "source": [
    "#Para desarrollar esta evaluacion usaremos una clase llamada 'TiendaOnline con los siguientes atributos:\n",
    "## 1) Inventario \\\\ 2) clientes \\\\ 3) Ventas totales\n",
    "### y los siguientes métodos:\n",
    "#### 1) Agregar producto \\\\ 2) Ver inventario \\\\ 3) Buscar producto \\\\ 4) Actualizar Stock \\\\ 5) Eliminar producto \\\\ 6) Calcular valor inventario \\\\ 7) Buscar producto con REGEX\n",
    "##### 8) Realizar compra \\\\ 9) Procesar pago \\\\ 10) Agregar cliente \\\\ 11) Ver clientes \\\\ 12) Registrar compra \\\\ 13) ver comprar \\\\ 14) Calcular ventas totales"
   ]
  },
  {
   "cell_type": "code",
   "execution_count": 88,
   "metadata": {},
   "outputs": [],
   "source": [
    "#Creamos la clase\n",
    "class TiendaOnline:\n",
    "    def __init__(self, ): #definimos los atributos. Como asignaremos valores iniciales, no es necesario poner los atributos como parámetros.\n",
    "          self.inventario = []\n",
    "          self.cliente = {}\n",
    "          self.ventas_totales = 0.0 #iniciamos con un valor float.\n",
    "\n",
    "##Creamos los métodos\n",
    "\n",
    "# 1) Agregar Producto\n",
    "    def agregar_producto(self, nombre, precio, cantidad):\n",
    "        for producto in self.inventario:            \n",
    "              if producto['nombre'] == nombre:\n",
    "                     producto ['cantidad'] += cantidad\n",
    "                     return f'El producto se ha modificado con exito'\n",
    "              break #para evitar que agregue el producto\n",
    "        else: #explicar por que va fuera del if/\n",
    "            nuevo_producto = {'nombre': nombre , 'precio': precio, 'cantidad': cantidad}\n",
    "            self.inventario.append(nuevo_producto)\n",
    "            return(self.inventario)\n",
    "\n",
    "# 2) Ver inventario\n",
    "    def ver_inventario(self):\n",
    "         for producto in self.inventario:\n",
    "             print(f\"Nombre: {producto['nombre']}, Precio: ${producto['precio']}, Cantidad: {producto['cantidad']}\")\n",
    "             return # ver como sacar el NONE\n",
    "\n",
    "# 3) Buscar Producto\n",
    "    def buscar_producto(self, nombre):\n",
    "         for producto in self.inventario:\n",
    "              if nombre == producto['nombre']:\n",
    "                   print(f\"Nombre: {producto['nombre']}, Precio: ${producto['precio']}, Cantidad: {producto['cantidad']}\")\n",
    "                   break #para que no siga iterando si es que se ha encontrado el producto\n",
    "              else:\n",
    "                   print('Este producto no se encuentra en el inventario')\n",
    "\n",
    "#4) Actualizar stock\n",
    "    def actualizar_stock(self, nombre, cantidad):\n",
    "         for producto in self.inventario:            \n",
    "              if producto['nombre'] == nombre:\n",
    "                     producto ['cantidad'] = cantidad\n",
    "                     print(f\"Nombre: {producto['nombre']}, Precio: ${producto['precio']}, Cantidad: {producto['cantidad']}\")\n",
    "              else:\n",
    "                  print('Este producto no se encuentra en el inventario')\n",
    "                   \n",
    "# 5) Eliminar producto\n",
    "    def eliminar_producto(self, nombre):\n",
    "         for producto in self.inventario:\n",
    "              if nombre == producto ['nombre']:\n",
    "                   print(f\"El producto {producto['nombre']} ha sido eliminado correctamente\") #primero el print para poder obtener el nombre del producto, y luego eliminarlo.\n",
    "                   producto.pop('nombre')\n",
    "                   \n",
    "                   \n",
    " # 6) calcular el valor del inventario\n",
    "    def calcular_valor_inventario(self):\n",
    "         for producto in self.inventario:\n",
    "            valor_productos = producto['precio']*producto['cantidad']\n",
    "            valor_inventario = sum(valor_productos)\n",
    "            return valor_inventario\n",
    "            \n",
    "                 \n",
    "         \n",
    "         "
   ]
  },
  {
   "cell_type": "code",
   "execution_count": 81,
   "metadata": {},
   "outputs": [
    {
     "name": "stdout",
     "output_type": "stream",
     "text": [
      "[{'nombre': 'Cuaderno', 'precio': 5, 'cantidad': 100}]\n"
     ]
    }
   ],
   "source": [
    "producto1 = TiendaOnline()\n",
    "print(producto1.agregar_producto('Cuaderno', 5, 100))"
   ]
  },
  {
   "cell_type": "code",
   "execution_count": 71,
   "metadata": {},
   "outputs": [
    {
     "name": "stdout",
     "output_type": "stream",
     "text": [
      "Nombre: Cuaderno, Precio: $5, Cantidad: 50\n",
      "None\n"
     ]
    }
   ],
   "source": [
    "print(producto1.actualizar_stock('Cuaderno', 50))"
   ]
  },
  {
   "cell_type": "code",
   "execution_count": 72,
   "metadata": {},
   "outputs": [
    {
     "name": "stdout",
     "output_type": "stream",
     "text": [
      "Nombre: Cuaderno, Precio: $5, Cantidad: 50\n",
      "None\n"
     ]
    }
   ],
   "source": [
    "print(producto1.ver_inventario())"
   ]
  },
  {
   "cell_type": "code",
   "execution_count": 82,
   "metadata": {},
   "outputs": [
    {
     "name": "stdout",
     "output_type": "stream",
     "text": [
      "El producto Cuaderno ha sido eliminado correctamente\n"
     ]
    }
   ],
   "source": [
    "producto1.eliminar_producto('Cuaderno')"
   ]
  },
  {
   "cell_type": "code",
   "execution_count": 86,
   "metadata": {},
   "outputs": [],
   "source": [
    "def calcular_valor_inventario(self):\n",
    "         for producto in self.inventario:\n",
    "            valor_productos = producto['precio']*producto['cantidad']\n",
    "            dict_valor_product= {'nombre': nombre , 'precio total': valor_productos}\n"
   ]
  },
  {
   "cell_type": "code",
   "execution_count": 89,
   "metadata": {},
   "outputs": [
    {
     "name": "stdout",
     "output_type": "stream",
     "text": [
      "<function TiendaOnline.calcular_valor_inventario at 0x00000190B81DCC20>\n"
     ]
    }
   ],
   "source": [
    "print(TiendaOnline.calcular_valor_inventario)"
   ]
  }
 ],
 "metadata": {
  "kernelspec": {
   "display_name": "Python 3",
   "language": "python",
   "name": "python3"
  },
  "language_info": {
   "codemirror_mode": {
    "name": "ipython",
    "version": 3
   },
   "file_extension": ".py",
   "mimetype": "text/x-python",
   "name": "python",
   "nbconvert_exporter": "python",
   "pygments_lexer": "ipython3",
   "version": "3.11.3"
  }
 },
 "nbformat": 4,
 "nbformat_minor": 2
}
