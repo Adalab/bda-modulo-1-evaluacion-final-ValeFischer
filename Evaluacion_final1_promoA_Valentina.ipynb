{
 "cells": [
  {
   "cell_type": "markdown",
   "metadata": {},
   "source": [
    "Evaluacion Final 1"
   ]
  },
  {
   "cell_type": "code",
   "execution_count": null,
   "metadata": {},
   "outputs": [],
   "source": [
    "#Para desarrollar esta evaluacion usaremos una clase llamada 'TiendaOnline con los siguientes atributos:\n",
    "## 1) Inventario \\\\ 2) clientes \\\\ 3) Ventas totales\n",
    "### y los siguientes métodos:\n",
    "#### 1) Agregar producto \\\\ 2) Ver inventario \\\\ 3) Buscar producto \\\\ 4) Actualizar Stock \\\\ 5) Eliminar producto \\\\ 6) Calcular valor inventario \\\\ 7) Buscar producto con REGEX\n",
    "##### 8) Realizar compra \\\\ 9) Procesar pago \\\\ 10) Agregar cliente \\\\ 11) Ver clientes \\\\ 12) Registrar compra \\\\ 13) ver comprar \\\\ 14) Calcular ventas totales"
   ]
  },
  {
   "cell_type": "code",
   "execution_count": 77,
   "metadata": {},
   "outputs": [],
   "source": [
    "#Creamos la clase\n",
    "class TiendaOnline:\n",
    "    def __init__(self): #definimos los atributos. Como asignaremos valores iniciales, no es necesario poner los atributos como parámetros.\n",
    "          self.inventario = []\n",
    "          self.cliente = {}\n",
    "          self.ventas_totales = 0.0 #iniciamos con un valor float.\n",
    "\n",
    "##Creamos los métodos\n",
    "\n",
    "# 1) Agregar Producto\n",
    "    def agregar_producto(self, nombre, precio, cantidad):\n",
    "        for producto in self.inventario:         # primero verificamos si el producto ya esta en el inventario y actualizamos su cantidad   \n",
    "              if producto['nombre'] == nombre:\n",
    "                producto ['cantidad'] += cantidad\n",
    "                print ('El producto se ha modificado con exito')\n",
    "        else:\n",
    "            nuevo_producto = {'nombre': nombre , 'precio': precio, 'cantidad': cantidad}\n",
    "            self.inventario.append(nuevo_producto)\n",
    "            print('El producto se ha agregado con exito')\n",
    "\n",
    "# 2) Ver inventario\n",
    "    def ver_inventario(self):\n",
    "         for producto in self.inventario:\n",
    "            print(f\"Nombre: {producto['nombre']}, Precio: ${producto['precio']}, Cantidad: {producto['cantidad']}\")\n",
    "          \n",
    "             \n",
    "\n",
    "# 3) Buscar Producto\n",
    "    def buscar_producto(self, nombre):\n",
    "          for producto in self.inventario:\n",
    "            if nombre == producto['nombre']:\n",
    "                print(f\"Nombre: {producto['nombre']}, Precio: ${producto['precio']}, Cantidad: {producto['cantidad']}\")\n",
    "                break #para que no siga iterando si es que se ha encontrado el producto\n",
    "              \n",
    "\n",
    "#4) Actualizar stock\n",
    "    def actualizar_stock(self, nombre, cantidad):\n",
    "        for producto in self.inventario:\n",
    "            if producto['nombre'] == nombre:\n",
    "                producto['cantidad'] = cantidad\n",
    "                print(f\"Nombre: {producto['nombre']}, Precio: ${producto['precio']}, Cantidad: {producto['cantidad']}\")\n",
    "                return\n",
    "        else:\n",
    "            print('Este producto no se encuentra en el inventario')\n",
    "                   \n",
    "# 5) Eliminar producto\n",
    "    def eliminar_producto(self, nombre):\n",
    "        for producto in self.inventario:\n",
    "            if nombre == producto ['nombre']:\n",
    "                print(f\"El producto {producto['nombre']} ha sido eliminado correctamente\") #primero el print para poder obtener el nombre del producto, y luego eliminarlo.\n",
    "                producto.pop('nombre')\n",
    "                break\n",
    "        else:\n",
    "            print('Este producto no se encuentra en el inventario')\n",
    "            \n",
    "                   \n",
    "                   \n",
    " # 6) calcular el valor del inventario\n",
    "    def calcular_valor_inventario(self):\n",
    "         valor_inventario = sum(producto['precio']*producto['cantidad'] for producto in self.inventario)\n",
    "         print (f\"el valor total del inventario es:{valor_inventario}\")\n",
    "\n",
    "# 7) Buscar producto con REGEX\n",
    "    def buscar_producto_regex(self, patron):\n",
    "        import re\n",
    "        resultados = []\n",
    "        for producto in self.inventario:\n",
    "            if re.search(patron, producto['nombre'], re.IGNORECASE):\n",
    "                resultados.append(producto)\n",
    "        if resultados:\n",
    "            for producto in resultados:\n",
    "                print(f\"Nombre: {producto['nombre']}, Precio: ${producto['precio']}, Cantidad: {producto['cantidad']}\")\n",
    "        else:\n",
    "            print(\"No se encontraron productos que coincidan con el patrón.\")\n",
    "              \n",
    "\n",
    "# 8) Realizar compra\n",
    "    def realizar_compra(self):\n",
    "        carrito = {} #creamos un diccionario para almacenar la compra del cliente con nombre del producto y cantidad\n",
    "        while True: #iniciamos el bucle mostrando el inventario y preguntando al cliente lo que quiere comprar. Damos la opcion de abandonar la compra.\n",
    "            self.ver_inventario() \n",
    "            producto_cliente = input(\"Ingrese el nombre del producto que desea comprar (o 'salir' para finalizar la compra): \")\n",
    "            if producto_cliente.lower() == 'salir':\n",
    "             break\n",
    "            if producto_cliente in self.inventario:\n",
    "                cantidad_cliente = int(input(f\"Indique la cantidad de '{producto_cliente}' que desea comprar: \")) \n",
    "                if cantidad_cliente <= self.inventario['cantidad']: \n",
    "                    if producto_cliente in carrito:\n",
    "                        carrito[producto_cliente] += cantidad_cliente\n",
    "                    else: \n",
    "                        carrito.update({producto_cliente: cantidad_cliente})\n",
    "                else:\n",
    "                    print('Lo sentimos, no hay sucifiente stock')\n",
    "            else:\n",
    "                print(\"El producto ingresado no existe en el inventario.\")\n",
    "                continue\n",
    "            self.inventario[producto_cliente][\"cantidad\"] -= cantidad_cliente\n",
    "                         \n",
    "        # Calcular el costo total de la compra   \n",
    "            total_compra_cliente = sum(producto['precio']*cantidad_cliente for producto in carrito)\n",
    "            print(\"Su compra incluye los siguientes items:\")\n",
    "            for producto, cantidad in carrito.items():\n",
    "                print(f\"Producto: {producto}, Cantidad: {cantidad}\")\n",
    "            print(f\"El total de su compra es: {total_compra_cliente}\")       \n",
    "            \n",
    " \n",
    "  # 9) procesar_pago\n",
    "    def procesar_pago(self):\n",
    "        try:\n",
    "            cantidad_total = float(input(\"Ingrese la cantidad total: \"))\n",
    "            cantidad_pago = float(input(\"Ingrese la cantidad de pago: \"))\n",
    "            cambio = cantidad_total - cantidad_pago\n",
    "            if cambio >= 0:\n",
    "                print(f\"Pago exitoso. Su cambio es: ${cambio:.2f}\")\n",
    "            else:\n",
    "                print(\"Monto insuficiente. El pago no se pudo procesar.\")\n",
    "        except ValueError:\n",
    "            print(\"Error: Ingrese un valor numérico válido para la cantidad total y la cantidad de pago.\")      \n",
    "         \n",
    " \n",
    " # 10) Agregar cliente\n",
    "    def agregar_cliente(self, nombre, email):\n",
    "                if nombre in self.cliente:\n",
    "                    print('Es posible que este cliente ya se encuentr en el registro, por favor confirma')\n",
    "                else:\n",
    "                    self.cliente ={'nombre': nombre, 'email': email, 'compras':[]}\n",
    "                    return(self.cliente)\n",
    "\n",
    "# 11) Ver clientela\n",
    "    def ver_cliente(self):\n",
    "        for cliente in (self.cliente.items()):\n",
    "             print(f'{cliente}')\n",
    "\n",
    "#12) Registrar compra\n",
    "    def registrar_compra(self,nombre, carrito):\n",
    "         if nombre not in self.cliente: #verificamos si el cliente se encuentra en el diccionario\n",
    "              print(f'Esta acción no es posible ya que el cliente no se encuentra en el registro')\n",
    "         else: #calculamos la compra del cliente regstrado\n",
    "              total_compra = sum(producto['precio'] for producto in carrito)\n",
    "              self.ventas_totales += total_compra #actualizamos las ventas totales, debe ser por cliente\n",
    "\n",
    "# 13) Ver compras cliente\n",
    "    def ver_compras_cliente(self, nombre):\n",
    "        if nombre in self.cliente:\n",
    "            self.cliente[nombre]['compras']\n",
    "            print(f\"{nombre}, {self.cliente[nombre]['compras']}\")\n",
    "        else:\n",
    "            print(f\"{nombre} no se encuentra registrado\")\n",
    "\n",
    "#14) Cacular ventas totales:\n",
    "              \n",
    "     "
   ]
  },
  {
   "cell_type": "code",
   "execution_count": 69,
   "metadata": {},
   "outputs": [],
   "source": [
    "#creamos instancias de clase\n",
    "tienda = TiendaOnline()"
   ]
  },
  {
   "cell_type": "code",
   "execution_count": 49,
   "metadata": {},
   "outputs": [
    {
     "name": "stdout",
     "output_type": "stream",
     "text": [
      "El producto se ha agregado con exito\n",
      "El producto se ha agregado con exito\n",
      "El producto se ha agregado con exito\n"
     ]
    }
   ],
   "source": [
    "#agregamos productos\n",
    "producto1 = tienda.agregar_producto('camisa', 20, 40)\n",
    "producto2 = tienda.agregar_producto('pantalon', 30, 50)\n",
    "prodcucto3 = tienda.agregar_producto('calcetines', 5, 100)\n"
   ]
  },
  {
   "cell_type": "code",
   "execution_count": 50,
   "metadata": {},
   "outputs": [
    {
     "name": "stdout",
     "output_type": "stream",
     "text": [
      "Nombre: camisa, Precio: $20, Cantidad: 40\n",
      "Nombre: pantalon, Precio: $30, Cantidad: 50\n",
      "Nombre: calcetines, Precio: $5, Cantidad: 100\n"
     ]
    }
   ],
   "source": [
    "#Vemos el inventario\n",
    "tienda.ver_inventario()"
   ]
  },
  {
   "cell_type": "code",
   "execution_count": 51,
   "metadata": {},
   "outputs": [
    {
     "name": "stdout",
     "output_type": "stream",
     "text": [
      "El producto se ha agregado con exito\n"
     ]
    }
   ],
   "source": [
    "producto4 = tienda.agregar_producto('zapatos', 70, 20)"
   ]
  },
  {
   "cell_type": "code",
   "execution_count": 52,
   "metadata": {},
   "outputs": [
    {
     "name": "stdout",
     "output_type": "stream",
     "text": [
      "Nombre: camisa, Precio: $20, Cantidad: 40\n"
     ]
    }
   ],
   "source": [
    "#buscamos un producto\n",
    "tienda.buscar_producto('camisa')"
   ]
  },
  {
   "cell_type": "code",
   "execution_count": 53,
   "metadata": {},
   "outputs": [
    {
     "name": "stdout",
     "output_type": "stream",
     "text": [
      "Nombre: calcetines, Precio: $5, Cantidad: 100\n"
     ]
    }
   ],
   "source": [
    "#buscamos otro un producto\n",
    "tienda.buscar_producto('calcetines')"
   ]
  },
  {
   "cell_type": "code",
   "execution_count": null,
   "metadata": {},
   "outputs": [],
   "source": [
    "#actualizar stock\n",
    "tienda.actualizar_stock('calcetines', 30)"
   ]
  },
  {
   "cell_type": "code",
   "execution_count": null,
   "metadata": {},
   "outputs": [],
   "source": [
    "tienda.eliminar_producto('calcetines')"
   ]
  },
  {
   "cell_type": "code",
   "execution_count": null,
   "metadata": {},
   "outputs": [],
   "source": [
    "tienda.calcular_valor_inventario()"
   ]
  },
  {
   "cell_type": "code",
   "execution_count": null,
   "metadata": {},
   "outputs": [],
   "source": [
    "tienda.buscar_producto_regex('\\w*')"
   ]
  },
  {
   "cell_type": "code",
   "execution_count": 54,
   "metadata": {},
   "outputs": [
    {
     "name": "stdout",
     "output_type": "stream",
     "text": [
      "Nombre: camisa, Precio: $20, Cantidad: 40\n",
      "Nombre: pantalon, Precio: $30, Cantidad: 50\n",
      "Nombre: calcetines, Precio: $5, Cantidad: 100\n",
      "Nombre: zapatos, Precio: $70, Cantidad: 20\n",
      "El producto ingresado no existe en el inventario.\n",
      "Nombre: camisa, Precio: $20, Cantidad: 40\n",
      "Nombre: pantalon, Precio: $30, Cantidad: 50\n",
      "Nombre: calcetines, Precio: $5, Cantidad: 100\n",
      "Nombre: zapatos, Precio: $70, Cantidad: 20\n",
      "El producto ingresado no existe en el inventario.\n",
      "Nombre: camisa, Precio: $20, Cantidad: 40\n",
      "Nombre: pantalon, Precio: $30, Cantidad: 50\n",
      "Nombre: calcetines, Precio: $5, Cantidad: 100\n",
      "Nombre: zapatos, Precio: $70, Cantidad: 20\n",
      "El producto ingresado no existe en el inventario.\n",
      "Nombre: camisa, Precio: $20, Cantidad: 40\n",
      "Nombre: pantalon, Precio: $30, Cantidad: 50\n",
      "Nombre: calcetines, Precio: $5, Cantidad: 100\n",
      "Nombre: zapatos, Precio: $70, Cantidad: 20\n",
      "El producto ingresado no existe en el inventario.\n",
      "Nombre: camisa, Precio: $20, Cantidad: 40\n",
      "Nombre: pantalon, Precio: $30, Cantidad: 50\n",
      "Nombre: calcetines, Precio: $5, Cantidad: 100\n",
      "Nombre: zapatos, Precio: $70, Cantidad: 20\n"
     ]
    }
   ],
   "source": [
    "tienda.realizar_compra()"
   ]
  },
  {
   "cell_type": "code",
   "execution_count": 55,
   "metadata": {},
   "outputs": [
    {
     "name": "stdout",
     "output_type": "stream",
     "text": [
      "Pago exitoso. Su cambio es: $3000.00\n"
     ]
    }
   ],
   "source": [
    "tienda.procesar_pago()"
   ]
  },
  {
   "cell_type": "code",
   "execution_count": 79,
   "metadata": {},
   "outputs": [
    {
     "data": {
      "text/plain": [
       "{'nombre': 'Valentina', 'email': 'v.fischerd@gmail.com', 'compras': []}"
      ]
     },
     "execution_count": 79,
     "metadata": {},
     "output_type": "execute_result"
    }
   ],
   "source": [
    "tienda.agregar_cliente('Valentina', 'v.fischerd@gmail.com')"
   ]
  },
  {
   "cell_type": "code",
   "execution_count": 80,
   "metadata": {},
   "outputs": [
    {
     "name": "stdout",
     "output_type": "stream",
     "text": [
      "Nombre: nombre, Email: Valentina\n",
      "Nombre: email, Email: v.fischerd@gmail.com\n",
      "Nombre: compras, Email: []\n"
     ]
    }
   ],
   "source": [
    "tienda.ver_cliente()"
   ]
  }
 ],
 "metadata": {
  "kernelspec": {
   "display_name": "Python 3",
   "language": "python",
   "name": "python3"
  },
  "language_info": {
   "codemirror_mode": {
    "name": "ipython",
    "version": 3
   },
   "file_extension": ".py",
   "mimetype": "text/x-python",
   "name": "python",
   "nbconvert_exporter": "python",
   "pygments_lexer": "ipython3",
   "version": "3.11.3"
  }
 },
 "nbformat": 4,
 "nbformat_minor": 2
}
