{
 "cells": [
  {
   "cell_type": "markdown",
   "metadata": {},
   "source": [
    "Evaluacion Final 1"
   ]
  },
  {
   "cell_type": "code",
   "execution_count": null,
   "metadata": {},
   "outputs": [],
   "source": [
    "#Para desarrollar esta evaluacion usaremos una clase llamada 'TiendaOnline con los siguientes atributos:\n",
    "## 1) Inventario \\\\ 2) clientes \\\\ 3) Ventas totales\n",
    "### y los siguientes métodos:\n",
    "#### 1) Agregar producto \\\\ 2) Ver inventario \\\\ 3) Buscar producto \\\\ 4) Actualizar Stock \\\\ 5) Eliminar producto \\\\ 6) Calcular valor inventario \\\\ 7) Buscar producto con REGEX\n",
    "##### 8) Realizar compra \\\\ 9) Procesar pago \\\\ 10) Agregar cliente \\\\ 11) Ver clientes \\\\ 12) Registrar compra \\\\ 13) ver comprar \\\\ 14) Calcular ventas totales"
   ]
  },
  {
   "cell_type": "code",
   "execution_count": 74,
   "metadata": {},
   "outputs": [],
   "source": [
    "#Creamos la clase\n",
    "class TiendaOnline:\n",
    "    def __init__(self): #definimos los atributos. Como asignaremos valores iniciales, no es necesario poner los atributos como parámetros.\n",
    "          self.inventario = []\n",
    "          self.cliente = {}\n",
    "          self.ventas_totales = 0.0 #iniciamos con un valor float.\n",
    "\n",
    "##Creamos los métodos\n",
    "\n",
    "# 1) Agregar Producto\n",
    "    def agregar_producto(self, nombre, precio, cantidad):\n",
    "        for producto in self.inventario:         # primero verificamos si el producto ya esta en el inventario y actualizamos su cantidad   \n",
    "              if producto['nombre'] == nombre:\n",
    "                     producto ['cantidad'] += cantidad\n",
    "                     return f'El producto se ha modificado con exito'\n",
    "        nuevo_producto = {'nombre': nombre , 'precio': precio, 'cantidad': cantidad}\n",
    "        self.inventario.append(nuevo_producto)\n",
    "        return f'El producto se ha agregado con exito'\n",
    "\n",
    "# 2) Ver inventario\n",
    "    def ver_inventario(self):\n",
    "         for producto in self.inventario:\n",
    "             print(f\"Nombre: {producto['nombre']}, Precio: ${producto['precio']}, Cantidad: {producto['cantidad']}\")\n",
    "             \n",
    "\n",
    "# 3) Buscar Producto\n",
    "    def buscar_producto(self, nombre):\n",
    "         for producto in self.inventario:\n",
    "              if nombre == producto['nombre']:\n",
    "                   print(f\"Nombre: {producto['nombre']}, Precio: ${producto['precio']}, Cantidad: {producto['cantidad']}\")\n",
    "                   break #para que no siga iterando si es que se ha encontrado el producto\n",
    "              else:\n",
    "                   print('Este producto no se encuentra en el inventario')\n",
    "\n",
    "#4) Actualizar stock\n",
    "    def actualizar_stock(self, nombre, cantidad):\n",
    "         for producto in self.inventario:            \n",
    "              if producto['nombre'] == nombre:\n",
    "                     producto ['cantidad'] = cantidad\n",
    "                     print(f\"Nombre: {producto['nombre']}, Precio: ${producto['precio']}, Cantidad: {producto['cantidad']}\")\n",
    "              else:\n",
    "                  print('Este producto no se encuentra en el inventario')\n",
    "                   \n",
    "# 5) Eliminar producto\n",
    "    def eliminar_producto(self, nombre):\n",
    "         for producto in self.inventario:\n",
    "              if nombre == producto ['nombre']:\n",
    "                   print(f\"El producto {producto['nombre']} ha sido eliminado correctamente\") #primero el print para poder obtener el nombre del producto, y luego eliminarlo.\n",
    "                   producto.pop('nombre')\n",
    "                   \n",
    "                   \n",
    " # 6) calcular el valor del inventario\n",
    "    def calcular_valor_inventario(self):\n",
    "         valor_inventario = sum(producto['precio']*producto['cantidad'] for producto in self.inventario)\n",
    "         print (f\"el valor total del inventario es:{valor_inventario}\")\n",
    "\n",
    "# 7) Buscar producto con REGEX\n",
    "    #def buscar_producto_regex(self, patron):\n",
    "         #import re\n",
    "         #resultados_regex = []\n",
    "     #    patron1 = ('\\w*')\n",
    "      #   for producto in self.inventario:\n",
    "               \n",
    "       #       find_productos = [re.findall()]\n",
    "              \n",
    "\n",
    "# 8) Realizar compra\n",
    "    def realizar_compra(self):\n",
    "     carrito = {}\n",
    "     while True:\n",
    "          print(self.ver_inventario)\n",
    "          producto_cliente = input(\"Ingrese el nombre del producto que desea comprar (o 'salir' para finalizar la compra): \")\n",
    "          if producto_cliente.lower() == 'salir':\n",
    "            break\n",
    "\n",
    "     # Buscamos el producto que el cliente quiere:\n",
    "          for producto in self.inventario:\n",
    "               if producto_cliente == producto['nombre']:\n",
    "                    cantidad = int(input(f\"Indique la cantidad de '{producto_cliente}' que desea comprar: \")) # Pedimos la cantidad que desea el cliente del producto\n",
    "                    if cantidad <= producto['cantidad']: # Verificamos si hay suficiente stock en el inventario\n",
    "                         carrito[producto_cliente] = {'nombre': producto['nombre'], 'cantidad': cantidad} #Si producto_cliente ya está presente en el diccionario carrito, \n",
    "                         #esto significa que el cliente ya ha seleccionado ese producto antes y lo ha agregado al carrito. \n",
    "                         #En este caso, carrito[producto_cliente] nos dará acceso al subdiccionario que contiene la información sobre ese producto, como la cantidad.\n",
    "                         print(f\"Producto {producto['nombre']} ha sido añadido al carrito de compra\")\n",
    "                    else:\n",
    "                         print('Lo sentimos, no hay sucifiente stock')\n",
    "          return carrito\n",
    "               \n",
    "\n",
    "\n",
    "     # Calcular el costo total de la compra   \n",
    "          total_compra = sum(producto['precio']*cantidad for producto in carrito)\n",
    "          return carrito\n",
    "     #actualizamos el inventario\n",
    "     #producto_cliente['cantidad'] -= cantidad             \n",
    "                   \n",
    "                   \n",
    "         \n",
    " # 9) procesar_pago\n",
    "    def procesar_pago(self, total_compra):\n",
    "        try: # Solicitar al cliente ingresar la cantidad total y la cantidad de pago\n",
    "            cantidad_total = float(input(\"Ingrese la cantidad total: \"))\n",
    "            cantidad_pago = float(input(\"Ingrese la cantidad de pago: \"))\n",
    "     # Calcular el cambio\n",
    "            cambio = cantidad_pago - cantidad_total\n",
    "            if cambio >= 0:\n",
    "                print(f\"Pago exitoso. Su cambio es: ${cambio:.2f}\") #se agrega .2f para mostrar 2 decimales\n",
    "            else:\n",
    "                print(\"Monto insuficiente. El pago no se pudo procesar.\")\n",
    "\n",
    "        except ValueError:\n",
    "            print(\"Error: Ingrese un valor numérico válido para la cantidad total y la cantidad de pago.\")      \n",
    "         \n",
    "    \n",
    "                    \n",
    " # 10) Agregar cliente\n",
    "    def agregar_cliente(self, nombrec, email):\n",
    "            nuevo_cliente = {'nombre': nombrec , 'email': email}\n",
    "            if nuevo_cliente['nombre'] or nuevo_cliente['email'] in self.cliente.values():\n",
    "                 print('Es posible que este cliente ya se encuentr en el registro, por favor confirma')\n",
    "            else:\n",
    "                 self.clientes[nombrec] = email\n",
    "                 return(self.cliente) ## no se agrega, por qué me devuelve none\n",
    "\n",
    "# 11) Ver clientela\n",
    "    def ver_cliente(self):\n",
    "        for nombre, email in self.cliente.items():\n",
    "             print(f\"Nombre: {nombre}, Email: {email}\")\n",
    "\n",
    "#12) Registrar compra\n",
    "    def registrar_compra(self,nombre_cliente, carrito):\n",
    "         if nombre_cliente not in self.cliente: #verificamos si el cliente se encuentra en el diccionario\n",
    "              print(f'Esta acción no es posible ya que el client no se encuentra en el registro')\n",
    "         else: #calculamos la compra del cliente regstrado\n",
    "              total_compra = sum(producto['precio'] for producto in carrito)\n",
    "              self.ventas_totales += total_compra #actualizamos las ventas totales, debe ser por cliente\n",
    "\n",
    "# 13) Ver compras cliente\n",
    "    def ver_compras_cliente(self, nombre_cliente):\n",
    "        if nombre_cliente in self.clientes:\n",
    "            self.clientes[nombre_cliente]['compras']\n",
    "            print(f\"{nombre_cliente}, {self.clientes[nombre_cliente]['compras']}\")\n",
    "        else:\n",
    "            print(f\"{nombre_cliente} no se encuentra registrado\")\n",
    "\n",
    "#14) Cacular ventas totaales:\n",
    "              \n",
    "     "
   ]
  },
  {
   "cell_type": "code",
   "execution_count": 75,
   "metadata": {},
   "outputs": [],
   "source": [
    "#creamos instancias de clase\n",
    "tienda = TiendaOnline()"
   ]
  },
  {
   "cell_type": "code",
   "execution_count": 78,
   "metadata": {},
   "outputs": [],
   "source": [
    "#agregamos productos\n",
    "producto1 = tienda.agregar_producto('camisa', 20, 40)\n",
    "producto2 = tienda.agregar_producto('pantalon', 30, 50)\n",
    "prodcucto3 = tienda.agregar_producto('calcetines', 5, 100)\n"
   ]
  },
  {
   "cell_type": "code",
   "execution_count": 79,
   "metadata": {},
   "outputs": [
    {
     "name": "stdout",
     "output_type": "stream",
     "text": [
      "Nombre: camisa, Precio: $20, Cantidad: 80\n",
      "Nombre: pantalon, Precio: $30, Cantidad: 100\n",
      "Nombre: calcetines, Precio: $5, Cantidad: 200\n"
     ]
    }
   ],
   "source": [
    "#Vemos el inventario\n",
    "tienda.ver_inventario()"
   ]
  },
  {
   "cell_type": "code",
   "execution_count": 80,
   "metadata": {},
   "outputs": [],
   "source": [
    "producto4 = tienda.agregar_producto('zapatos', 70, 20)"
   ]
  },
  {
   "cell_type": "code",
   "execution_count": 81,
   "metadata": {},
   "outputs": [
    {
     "name": "stdout",
     "output_type": "stream",
     "text": [
      "Nombre: camisa, Precio: $20, Cantidad: 80\n"
     ]
    }
   ],
   "source": [
    "#buscamos un producto\n",
    "tienda.buscar_producto('camisa')"
   ]
  },
  {
   "cell_type": "code",
   "execution_count": 82,
   "metadata": {},
   "outputs": [
    {
     "name": "stdout",
     "output_type": "stream",
     "text": [
      "Este producto no se encuentra en el inventario\n",
      "Este producto no se encuentra en el inventario\n",
      "Este producto no se encuentra en el inventario\n",
      "Nombre: zapatos, Precio: $70, Cantidad: 20\n"
     ]
    }
   ],
   "source": [
    "#buscamos otro un producto\n",
    "tienda.buscar_producto('zapatos')"
   ]
  },
  {
   "cell_type": "code",
   "execution_count": 83,
   "metadata": {},
   "outputs": [
    {
     "name": "stdout",
     "output_type": "stream",
     "text": [
      "Este producto no se encuentra en el inventario\n",
      "Este producto no se encuentra en el inventario\n",
      "Nombre: calcetines, Precio: $5, Cantidad: 30\n",
      "Este producto no se encuentra en el inventario\n"
     ]
    }
   ],
   "source": [
    "#actualizar stock\n",
    "tienda.actualizar_stock('calcetines', 30)"
   ]
  }
 ],
 "metadata": {
  "kernelspec": {
   "display_name": "Python 3",
   "language": "python",
   "name": "python3"
  },
  "language_info": {
   "codemirror_mode": {
    "name": "ipython",
    "version": 3
   },
   "file_extension": ".py",
   "mimetype": "text/x-python",
   "name": "python",
   "nbconvert_exporter": "python",
   "pygments_lexer": "ipython3",
   "version": "3.11.3"
  }
 },
 "nbformat": 4,
 "nbformat_minor": 2
}
