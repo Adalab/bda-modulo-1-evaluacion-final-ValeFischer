{
 "cells": [
  {
   "cell_type": "markdown",
   "metadata": {},
   "source": [
    "Evaluacion Final 1"
   ]
  },
  {
   "cell_type": "code",
   "execution_count": null,
   "metadata": {},
   "outputs": [],
   "source": [
    "#Para desarrollar esta evaluacion usaremos una clase llamada 'TiendaOnline con los siguientes atributos:\n",
    "## 1) Inventario \\\\ 2) clientes \\\\ 3) Ventas totales\n",
    "### y los siguientes métodos:\n",
    "#### 1) Agregar producto \\\\ 2) Ver inventario \\\\ 3) Buscar producto \\\\ 4) Actualizar Stock \\\\ 5) Eliminar producto \\\\ 6) Calcular valor inventario \\\\ 7) Buscar producto con REGEX\n",
    "##### 8) Realizar compra \\\\ 9) Procesar pago \\\\ 10) Agregar cliente \\\\ 11) Ver clientes \\\\ 12) Registrar compra \\\\ 13) ver comprar \\\\ 14) Calcular ventas totales"
   ]
  },
  {
   "cell_type": "code",
   "execution_count": 21,
   "metadata": {},
   "outputs": [],
   "source": [
    "#Creamos la clase\n",
    "class TiendaOnline:\n",
    "    def __init__(self): #definimos los atributos. Como asignaremos valores iniciales, no es necesario poner los atributos como parámetros.\n",
    "          self.inventario = []\n",
    "          self.cliente = {}\n",
    "          self.ventas_totales = 0.0 #iniciamos con un valor float.\n",
    "\n",
    "##Creamos los métodos\n",
    "\n",
    "# 1) Agregar Producto\n",
    "    def agregar_producto(self, nombre, precio, cantidad):\n",
    "        for producto in self.inventario:         # primero verificamos si el producto ya esta en el inventario y actualizamos su cantidad   \n",
    "              if producto['nombre'] == nombre:\n",
    "                producto ['cantidad'] += cantidad\n",
    "                print ('El producto se ha modificado con exito')\n",
    "        else: #si el producto no existe, lo agregamos\n",
    "            nuevo_producto = {'nombre': nombre , 'precio': precio, 'cantidad': cantidad}\n",
    "            self.inventario.append(nuevo_producto)\n",
    "            print('El producto se ha agregado con exito')\n",
    "\n",
    "# 2) Ver inventario\n",
    "    def ver_inventario(self):\n",
    "         for producto in self.inventario: #iteramos sobre el inventario y lo mostramos.\n",
    "            print(f\"Nombre: {producto['nombre']}, Precio: ${producto['precio']}, Cantidad: {producto['cantidad']}\")\n",
    "\n",
    "# 3) Buscar Producto\n",
    "    def buscar_producto(self, nombre):\n",
    "          for producto in self.inventario: #iteramos sobre el inventario y buscamos un match con el nombre\n",
    "            if nombre == producto['nombre']:\n",
    "                print(f\"Nombre: {producto['nombre']}, Precio: ${producto['precio']}, Cantidad: {producto['cantidad']}\")\n",
    "                break #para que no siga iterando si es que se ha encontrado el producto\n",
    "\n",
    "#4) Actualizar stock\n",
    "    def actualizar_stock(self, nombre, cantidad):\n",
    "        for producto in self.inventario: #iteramos sobre el inventario usando el nombre del producto y actualizamos la cantidad\n",
    "            if producto['nombre'] == nombre:\n",
    "                producto['cantidad'] = cantidad\n",
    "                print(f\"Nombre: {producto['nombre']}, Precio: ${producto['precio']}, Cantidad: {producto['cantidad']}\")\n",
    "                return\n",
    "        else: #si se ingresa un producto que no se encuentra en el inventario, entonces muestra este mensaje:\n",
    "            print('Este producto no se encuentra en el inventario')\n",
    "\n",
    "# 5) Eliminar producto\n",
    "    def eliminar_producto(self, nombre):\n",
    "        producto_eliminar = False #para hacer seguimiento si el producto se encuentra en el inventario\n",
    "        for producto in self.inventario: #iteramos sobre el inventario usando el nombre del producto como referencia\n",
    "            if nombre == producto ['nombre']:\n",
    "                print(f\"El producto {producto['nombre']} ha sido eliminado correctamente\") #primero el print para poder obtener el nombre del producto, y luego eliminarlo.\n",
    "                self.inventario.remove(producto) #al encontrar el producto, lo eliminamos\n",
    "                producto_eliminar = True\n",
    "                break\n",
    "        if not producto_eliminar: #si el producto no se encuentra en el inventario, muestra el siguiente mensaje:\n",
    "            print('Este producto no se encuentra en el inventario')\n",
    "\n",
    "  # 6) calcular el valor del inventario\n",
    "    def calcular_valor_inventario(self): #sumamos todos los productos, multiplicando cada uno de los precios por las cantidades de stock.\n",
    "         valor_inventario = sum(producto['precio']*producto['cantidad'] for producto in self.inventario)\n",
    "         print (f\"el valor total del inventario es:{valor_inventario}\") #mostramos el valor final\n",
    "\n",
    "# 7) Buscar producto con REGEX\n",
    "    def buscar_producto_regex(self, patron):\n",
    "        import re\n",
    "        resultados = [] #definimos una variable para almacenar las coincidencias con el patron\n",
    "        for producto in self.inventario:\n",
    "            if re.search(patron, producto ['nombre'], re.IGNORECASE):\n",
    "                resultados.append(producto)\n",
    "        if resultados:\n",
    "            for producto in resultados:\n",
    "                print(f\"Nombre: {producto['nombre']}, Precio: ${producto['precio']}, Cantidad: {producto['cantidad']}\")\n",
    "        else:\n",
    "            print('No se encontraron productos con este patron')\n",
    "# 8) Realizar compra\n",
    "    def realizar_compra(self):\n",
    "        while True:\n",
    "            self.ver_inventario()\n",
    "            producto_compra = input(\"Ingrese el nombre del producto que desea comprar o escriba 'terminar' para finalizar la compra: \")\n",
    "            if producto_compra.lower() == 'terminar':\n",
    "                break\n",
    "            encontrado = False\n",
    "            for producto in self.inventario:\n",
    "                if producto['nombre'] == producto_compra:\n",
    "                    encontrado = True\n",
    "                    cantidad_compra = int(input(\"Ingrese la cantidad que desea comprar: \"))\n",
    "                    if cantidad_compra <= producto['cantidad']:\n",
    "                        # Agregar producto al carrito\n",
    "                        if producto_compra in self.cliente:\n",
    "                            self.cliente[producto_compra] += cantidad_compra\n",
    "                        else:\n",
    "                            self.cliente[producto_compra] = cantidad_compra\n",
    "                        total_compra = self.cliente[producto_compra] * cantidad_compra\n",
    "                        # Actualizar inventario\n",
    "                        producto['cantidad'] -= cantidad_compra\n",
    "\n",
    "                        # Actualizar ventas totales\n",
    "                        self.ventas_totales += total_compra\n",
    "                        # Agregar la compra a la lista de compras del cliente\n",
    "                        self.cliente['compras'].append(total_compra)\n",
    "                    else:\n",
    "                        print(\"No hay suficiente cantidad disponible en el inventario.\")\n",
    "                    break\n",
    "\n",
    "            if not encontrado:\n",
    "                print(\"El producto ingresado no está disponible en el inventario.\")\n",
    "\n",
    "        print(f\"Total de la compra: ${total_compra}\")\n",
    "  # 9) procesar_pago\n",
    "    def procesar_pago(self):\n",
    "        try:\n",
    "            cantidad_total = float(input(\"Ingrese la cantidad total: \"))\n",
    "            cantidad_pago = float(input(\"Ingrese la cantidad de pago: \"))\n",
    "            cambio = cantidad_total - cantidad_pago\n",
    "            if cambio >= 0:\n",
    "                print(f\"Pago exitoso. Su cambio es: ${cambio:.2f}\")\n",
    "            else:\n",
    "                print(\"Monto insuficiente. El pago no se pudo procesar.\")\n",
    "        except ValueError:\n",
    "            print(\"Error: Ingrese un valor numérico válido para la cantidad total y la cantidad de pago.\")      \n",
    "         \n",
    " \n",
    " # 10) Agregar cliente\n",
    "    def agregar_cliente(self, nombre, email):\n",
    "        if nombre in self.cliente:\n",
    "            print('Es posible que este cliente ya se encuentr en el registro, por favor confirma')\n",
    "        else:\n",
    "            self.cliente[nombre] = {'email': email, 'compras': []}\n",
    "            print(f'El cliente {nombre} ha sido agregado correctamente al registro')\n",
    "\n",
    "# 11) Ver clientela\n",
    "    def ver_cliente(self):\n",
    "        for cliente in (self.cliente.items()):\n",
    "             print(f'{cliente}')\n",
    "\n",
    "#12) Registrar compra\n",
    "    def registrar_compra(self, nombre_cliente, carrito):\n",
    "        if nombre_cliente not in self.cliente:\n",
    "            print(\"No se puede realizar la acción porque el cliente no está registrado.\")\n",
    "        else:\n",
    "            total_compra = sum(producto['precio'] * producto['cantidad'] for producto in carrito)\n",
    "            self.ventas_totales += total_compra  # Actualiza las ventas totales\n",
    "\n",
    "            # Agregar compras al cliente\n",
    "            if 'compras' not in self.cliente[nombre_cliente]:\n",
    "                self.cliente[nombre_cliente]['compras'] = []\n",
    "            \n",
    "            self.cliente[nombre_cliente]['compras'].append({'carrito': carrito, 'total': total_compra})\n",
    "\n",
    "\n",
    "         \n",
    "# 13) Ver compras cliente\n",
    "    def ver_compras_cliente(self, nombre):\n",
    "        if nombre in self.cliente:\n",
    "            self.cliente[nombre]['compras']\n",
    "            print(f\"{nombre}, {self.cliente[nombre]['compras']}\")\n",
    "        else:\n",
    "            print(f\"{nombre} no se encuentra registrado\")\n",
    "\n",
    "#14) Calcular ventas totales:\n",
    "    def calcular_ventas_totales(self): #ya que al registrar compra hemos agregado las comras totales de los clientes, ahora solo necesitamos mostras estas\n",
    "        return f\"{self.ventas_totales}\"\n",
    "        \n",
    "              \n",
    "     "
   ]
  },
  {
   "cell_type": "code",
   "execution_count": 18,
   "metadata": {},
   "outputs": [],
   "source": [
    "#creamos instancias de clase\n",
    "tienda = TiendaOnline()"
   ]
  },
  {
   "cell_type": "code",
   "execution_count": 19,
   "metadata": {},
   "outputs": [
    {
     "name": "stdout",
     "output_type": "stream",
     "text": [
      "El producto se ha agregado con exito\n",
      "El producto se ha agregado con exito\n",
      "El producto se ha agregado con exito\n"
     ]
    }
   ],
   "source": [
    "#agregamos productos\n",
    "producto1 = tienda.agregar_producto('camisa', 20, 40)\n",
    "producto2 = tienda.agregar_producto('pantalon', 30, 50)\n",
    "prodcucto3 = tienda.agregar_producto('calcetines', 5, 100)\n"
   ]
  },
  {
   "cell_type": "code",
   "execution_count": 5,
   "metadata": {},
   "outputs": [
    {
     "name": "stdout",
     "output_type": "stream",
     "text": [
      "Nombre: camisa, Precio: $20, Cantidad: 40\n",
      "Nombre: pantalon, Precio: $30, Cantidad: 50\n",
      "Nombre: calcetines, Precio: $5, Cantidad: 100\n"
     ]
    }
   ],
   "source": [
    "#Vemos el inventario\n",
    "tienda.ver_inventario()"
   ]
  },
  {
   "cell_type": "code",
   "execution_count": 6,
   "metadata": {},
   "outputs": [
    {
     "name": "stdout",
     "output_type": "stream",
     "text": [
      "El producto se ha agregado con exito\n"
     ]
    }
   ],
   "source": [
    "producto4 = tienda.agregar_producto('zapatos', 70, 20)"
   ]
  },
  {
   "cell_type": "code",
   "execution_count": 7,
   "metadata": {},
   "outputs": [
    {
     "name": "stdout",
     "output_type": "stream",
     "text": [
      "Nombre: camisa, Precio: $20, Cantidad: 40\n"
     ]
    }
   ],
   "source": [
    "#buscamos un producto\n",
    "tienda.buscar_producto('camisa')"
   ]
  },
  {
   "cell_type": "code",
   "execution_count": 8,
   "metadata": {},
   "outputs": [
    {
     "name": "stdout",
     "output_type": "stream",
     "text": [
      "Nombre: calcetines, Precio: $5, Cantidad: 100\n"
     ]
    }
   ],
   "source": [
    "#buscamos otro un producto\n",
    "tienda.buscar_producto('calcetines')"
   ]
  },
  {
   "cell_type": "code",
   "execution_count": 9,
   "metadata": {},
   "outputs": [
    {
     "name": "stdout",
     "output_type": "stream",
     "text": [
      "Nombre: calcetines, Precio: $5, Cantidad: 30\n"
     ]
    }
   ],
   "source": [
    "#actualizar stock\n",
    "tienda.actualizar_stock('calcetines', 30)"
   ]
  },
  {
   "cell_type": "code",
   "execution_count": 10,
   "metadata": {},
   "outputs": [
    {
     "name": "stdout",
     "output_type": "stream",
     "text": [
      "El producto calcetines ha sido eliminado correctamente\n"
     ]
    }
   ],
   "source": [
    "tienda.eliminar_producto('calcetines')"
   ]
  },
  {
   "cell_type": "code",
   "execution_count": 11,
   "metadata": {},
   "outputs": [
    {
     "name": "stdout",
     "output_type": "stream",
     "text": [
      "el valor total del inventario es:3700\n"
     ]
    }
   ],
   "source": [
    "tienda.calcular_valor_inventario()"
   ]
  },
  {
   "cell_type": "code",
   "execution_count": 12,
   "metadata": {},
   "outputs": [
    {
     "name": "stdout",
     "output_type": "stream",
     "text": [
      "Nombre: camisa, Precio: $20, Cantidad: 40\n"
     ]
    }
   ],
   "source": [
    "tienda.buscar_producto_regex('cam.*')"
   ]
  },
  {
   "cell_type": "code",
   "execution_count": 13,
   "metadata": {},
   "outputs": [
    {
     "name": "stdout",
     "output_type": "stream",
     "text": [
      "Nombre: camisa, Precio: $20, Cantidad: 40\n",
      "Nombre: pantalon, Precio: $30, Cantidad: 50\n",
      "Nombre: zapatos, Precio: $70, Cantidad: 20\n"
     ]
    }
   ],
   "source": [
    "tienda.ver_inventario()"
   ]
  },
  {
   "cell_type": "code",
   "execution_count": 22,
   "metadata": {},
   "outputs": [
    {
     "name": "stdout",
     "output_type": "stream",
     "text": [
      "Nombre: camisa, Precio: $20, Cantidad: 40\n",
      "Nombre: pantalon, Precio: $30, Cantidad: 47\n",
      "Nombre: calcetines, Precio: $5, Cantidad: 100\n"
     ]
    },
    {
     "ename": "KeyError",
     "evalue": "'nombre'",
     "output_type": "error",
     "traceback": [
      "\u001b[1;31m---------------------------------------------------------------------------\u001b[0m",
      "\u001b[1;31mKeyError\u001b[0m                                  Traceback (most recent call last)",
      "Cell \u001b[1;32mIn[22], line 1\u001b[0m\n\u001b[1;32m----> 1\u001b[0m \u001b[43mtienda\u001b[49m\u001b[38;5;241;43m.\u001b[39;49m\u001b[43mrealizar_compra\u001b[49m\u001b[43m(\u001b[49m\u001b[43m)\u001b[49m\n",
      "Cell \u001b[1;32mIn[17], line 98\u001b[0m, in \u001b[0;36mTiendaOnline.realizar_compra\u001b[1;34m(self)\u001b[0m\n\u001b[0;32m     96\u001b[0m     \u001b[38;5;66;03m# Agregar la compra a la lista de compras del cliente\u001b[39;00m\n\u001b[0;32m     97\u001b[0m     compra \u001b[38;5;241m=\u001b[39m {\u001b[38;5;124m'\u001b[39m\u001b[38;5;124mproducto\u001b[39m\u001b[38;5;124m'\u001b[39m: producto_compra, \u001b[38;5;124m'\u001b[39m\u001b[38;5;124mcantidad\u001b[39m\u001b[38;5;124m'\u001b[39m: cantidad_compra, \u001b[38;5;124m'\u001b[39m\u001b[38;5;124mtotal\u001b[39m\u001b[38;5;124m'\u001b[39m: total_compra}\n\u001b[1;32m---> 98\u001b[0m     \u001b[38;5;28;43mself\u001b[39;49m\u001b[38;5;241;43m.\u001b[39;49m\u001b[43mcliente\u001b[49m\u001b[43m[\u001b[49m\u001b[38;5;124;43m'\u001b[39;49m\u001b[38;5;124;43mnombre\u001b[39;49m\u001b[38;5;124;43m'\u001b[39;49m\u001b[43m]\u001b[49m[\u001b[38;5;124m'\u001b[39m\u001b[38;5;124mcompras\u001b[39m\u001b[38;5;124m'\u001b[39m]\u001b[38;5;241m.\u001b[39mappend(compra)\n\u001b[0;32m     99\u001b[0m \u001b[38;5;28;01melse\u001b[39;00m:\n\u001b[0;32m    100\u001b[0m     \u001b[38;5;28mprint\u001b[39m(\u001b[38;5;124m\"\u001b[39m\u001b[38;5;124mNo hay suficiente cantidad disponible en el inventario.\u001b[39m\u001b[38;5;124m\"\u001b[39m)\n",
      "\u001b[1;31mKeyError\u001b[0m: 'nombre'"
     ]
    }
   ],
   "source": [
    "tienda.realizar_compra()"
   ]
  },
  {
   "cell_type": "code",
   "execution_count": 15,
   "metadata": {},
   "outputs": [
    {
     "name": "stdout",
     "output_type": "stream",
     "text": [
      "Pago exitoso. Su cambio es: $4.00\n"
     ]
    }
   ],
   "source": [
    "tienda.procesar_pago()"
   ]
  },
  {
   "cell_type": "code",
   "execution_count": 19,
   "metadata": {},
   "outputs": [
    {
     "name": "stdout",
     "output_type": "stream",
     "text": [
      "Es posible que este cliente ya se encuentr en el registro, por favor confirma\n"
     ]
    }
   ],
   "source": [
    "tienda.agregar_cliente('Valentina', 'v.fischerd@gmail.com')"
   ]
  },
  {
   "cell_type": "code",
   "execution_count": 20,
   "metadata": {},
   "outputs": [
    {
     "name": "stdout",
     "output_type": "stream",
     "text": [
      "('camisa', 4)\n",
      "('Valentina', {'email': 'v.fischerd@gmail.com', 'compras': []})\n",
      "('Matias', {'email': 'matias.aycaguer@gmail.com', 'compras': []})\n"
     ]
    }
   ],
   "source": [
    "tienda.ver_cliente()"
   ]
  },
  {
   "cell_type": "code",
   "execution_count": 18,
   "metadata": {},
   "outputs": [
    {
     "name": "stdout",
     "output_type": "stream",
     "text": [
      "El cliente Matias ha sido agregado correctamente al registro\n"
     ]
    }
   ],
   "source": [
    "tienda.agregar_cliente('Matias', 'matias.aycaguer@gmail.com')"
   ]
  },
  {
   "cell_type": "code",
   "execution_count": 21,
   "metadata": {},
   "outputs": [
    {
     "data": {
      "text/plain": [
       "'16.0'"
      ]
     },
     "execution_count": 21,
     "metadata": {},
     "output_type": "execute_result"
    }
   ],
   "source": [
    "tienda.calcular_ventas_totales()"
   ]
  }
 ],
 "metadata": {
  "kernelspec": {
   "display_name": "Python 3",
   "language": "python",
   "name": "python3"
  },
  "language_info": {
   "codemirror_mode": {
    "name": "ipython",
    "version": 3
   },
   "file_extension": ".py",
   "mimetype": "text/x-python",
   "name": "python",
   "nbconvert_exporter": "python",
   "pygments_lexer": "ipython3",
   "version": "3.11.3"
  }
 },
 "nbformat": 4,
 "nbformat_minor": 2
}
